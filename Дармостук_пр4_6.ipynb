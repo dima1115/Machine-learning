{
  "cells": [
    {
      "cell_type": "markdown",
      "metadata": {
        "id": "view-in-github",
        "colab_type": "text"
      },
      "source": [
        "<a href=\"https://colab.research.google.com/github/dima1115/Machine-learning/blob/main/%D0%94%D0%B0%D1%80%D0%BC%D0%BE%D1%81%D1%82%D1%83%D0%BA_%D0%BF%D1%804_6.ipynb\" target=\"_parent\"><img src=\"https://colab.research.google.com/assets/colab-badge.svg\" alt=\"Open In Colab\"/></a>"
      ]
    },
    {
      "cell_type": "markdown",
      "id": "97419baa",
      "metadata": {
        "id": "97419baa"
      },
      "source": [
        "# Лабораторна робота 4\n",
        "Тема: Задача класифікації\n",
        "Автор: Дармостук Дмитро, група ФІТ-4-9\n",
        "Варіант: 6"
      ]
    },
    {
      "cell_type": "code",
      "execution_count": 1,
      "id": "168e38cf",
      "metadata": {
        "id": "168e38cf"
      },
      "outputs": [],
      "source": [
        "\n",
        "import numpy as np, pandas as pd, matplotlib.pyplot as plt\n",
        "from sklearn.datasets import load_breast_cancer\n",
        "from sklearn.model_selection import train_test_split, GridSearchCV\n",
        "from sklearn.preprocessing import StandardScaler\n",
        "from sklearn.pipeline import Pipeline\n",
        "from sklearn.metrics import accuracy_score, confusion_matrix, classification_report\n",
        "from sklearn.linear_model import LogisticRegression\n",
        "from sklearn.tree import DecisionTreeClassifier\n",
        "from sklearn.ensemble import RandomForestClassifier\n",
        "np.random.seed(6)\n"
      ]
    },
    {
      "cell_type": "markdown",
      "id": "e3343f1b",
      "metadata": {
        "id": "e3343f1b"
      },
      "source": [
        "## Завдання 1. Breast Cancer"
      ]
    },
    {
      "cell_type": "code",
      "execution_count": 2,
      "id": "ad088f45",
      "metadata": {
        "colab": {
          "base_uri": "https://localhost:8080/"
        },
        "id": "ad088f45",
        "outputId": "c70d5b08-7dd0-4587-c38e-0d501da8acf3"
      },
      "outputs": [
        {
          "output_type": "stream",
          "name": "stdout",
          "text": [
            "Fitting 5 folds for each of 3 candidates, totalling 15 fits\n",
            "Fitting 5 folds for each of 9 candidates, totalling 45 fits\n",
            "Fitting 5 folds for each of 8 candidates, totalling 40 fits\n",
            "Accuracy table:\n",
            " LogReg    0.991228\n",
            "RF        0.973684\n",
            "Tree      0.964912\n",
            "dtype: float64\n",
            "\n",
            "== LogReg ==\n",
            "Accuracy: 0.9912280701754386\n",
            "Confusion:\n",
            " [[41  1]\n",
            " [ 0 72]]\n",
            "Report:\n",
            "               precision    recall  f1-score   support\n",
            "\n",
            "           0       1.00      0.98      0.99        42\n",
            "           1       0.99      1.00      0.99        72\n",
            "\n",
            "    accuracy                           0.99       114\n",
            "   macro avg       0.99      0.99      0.99       114\n",
            "weighted avg       0.99      0.99      0.99       114\n",
            "\n",
            "\n",
            "== Tree ==\n",
            "Accuracy: 0.9649122807017544\n",
            "Confusion:\n",
            " [[41  1]\n",
            " [ 3 69]]\n",
            "Report:\n",
            "               precision    recall  f1-score   support\n",
            "\n",
            "           0       0.93      0.98      0.95        42\n",
            "           1       0.99      0.96      0.97        72\n",
            "\n",
            "    accuracy                           0.96       114\n",
            "   macro avg       0.96      0.97      0.96       114\n",
            "weighted avg       0.97      0.96      0.97       114\n",
            "\n",
            "\n",
            "== RF ==\n",
            "Accuracy: 0.9736842105263158\n",
            "Confusion:\n",
            " [[41  1]\n",
            " [ 2 70]]\n",
            "Report:\n",
            "               precision    recall  f1-score   support\n",
            "\n",
            "           0       0.95      0.98      0.96        42\n",
            "           1       0.99      0.97      0.98        72\n",
            "\n",
            "    accuracy                           0.97       114\n",
            "   macro avg       0.97      0.97      0.97       114\n",
            "weighted avg       0.97      0.97      0.97       114\n",
            "\n"
          ]
        }
      ],
      "source": [
        "\n",
        "data = load_breast_cancer()\n",
        "X = pd.DataFrame(data.data, columns=data.feature_names)\n",
        "y = pd.Series(data.target, name='target')\n",
        "X_train, X_test, y_train, y_test = train_test_split(X, y, test_size=0.2, random_state=6, stratify=y)\n",
        "\n",
        "pipelines = {\n",
        "    'LogReg': Pipeline([('scaler', StandardScaler()), ('clf', LogisticRegression(max_iter=500))]),\n",
        "    'Tree':   Pipeline([('clf', DecisionTreeClassifier(random_state=6))]),\n",
        "    'RF':     Pipeline([('clf', RandomForestClassifier(random_state=6))])\n",
        "}\n",
        "grids = {\n",
        "    'LogReg': {'clf__C':[0.1,1.0,10.0], 'clf__solver':['lbfgs']},\n",
        "    'Tree':   {'clf__max_depth':[None,5,10], 'clf__min_samples_split':[2,5,10]},\n",
        "    'RF':     {'clf__n_estimators':[100,200], 'clf__max_depth':[None,10], 'clf__min_samples_split':[2,5]}\n",
        "}\n",
        "\n",
        "res = {}; best = {}\n",
        "for n,p in pipelines.items():\n",
        "    grid = GridSearchCV(p, grids[n], cv=5, n_jobs=-1, verbose=1)\n",
        "    grid.fit(X_train, y_train)\n",
        "    best[n] = grid.best_estimator_\n",
        "    pred = best[n].predict(X_test)\n",
        "    res[n] = accuracy_score(y_test, pred)\n",
        "print('Accuracy table:\\n', pd.Series(res).sort_values(ascending=False))\n",
        "for n,m in best.items():\n",
        "    pred = m.predict(X_test)\n",
        "    print(f\"\\n== {n} ==\")\n",
        "    print('Accuracy:', accuracy_score(y_test, pred))\n",
        "    print('Confusion:\\n', confusion_matrix(y_test, pred))\n",
        "    print('Report:\\n', classification_report(y_test, pred))\n"
      ]
    },
    {
      "cell_type": "markdown",
      "id": "e93a8e3a",
      "metadata": {
        "id": "e93a8e3a"
      },
      "source": [
        "## Завдання 2. Titanic"
      ]
    },
    {
      "cell_type": "code",
      "execution_count": 3,
      "id": "cce2eb29",
      "metadata": {
        "colab": {
          "base_uri": "https://localhost:8080/"
        },
        "id": "cce2eb29",
        "outputId": "457db0f0-1064-4ab4-9815-3e3e0f74c96a"
      },
      "outputs": [
        {
          "output_type": "stream",
          "name": "stdout",
          "text": [
            "Fitting 5 folds for each of 3 candidates, totalling 15 fits\n",
            "Fitting 5 folds for each of 9 candidates, totalling 45 fits\n",
            "Fitting 5 folds for each of 8 candidates, totalling 40 fits\n",
            "Accuracy table (Titanic):\n",
            " Tree      0.826816\n",
            "RF        0.821229\n",
            "LogReg    0.793296\n",
            "dtype: float64\n",
            "Best model for Titanic: Tree\n",
            "   y_true  y_pred\n",
            "0       0       0\n",
            "1       0       0\n",
            "2       0       0\n",
            "3       1       1\n",
            "4       0       0\n",
            "5       1       1\n",
            "6       1       1\n",
            "7       0       1\n",
            "8       0       0\n",
            "9       1       0\n"
          ]
        }
      ],
      "source": [
        "\n",
        "import pandas as pd\n",
        "from pathlib import Path\n",
        "\n",
        "def load_titanic():\n",
        "    p = Path('/content/titanic.csv')\n",
        "    if p.exists():\n",
        "        return pd.read_csv(p)\n",
        "    try:\n",
        "        import seaborn as sns\n",
        "        return sns.load_dataset('titanic')\n",
        "    except Exception:\n",
        "        pass\n",
        "    url = 'https://raw.githubusercontent.com/datasciencedojo/datasets/master/titanic.csv'\n",
        "    return pd.read_csv(url)\n",
        "\n",
        "titanic = load_titanic()\n",
        "titanic = titanic.rename(columns={'survived':'Survived','pclass':'Pclass','sex':'Sex','age':'Age','fare':'Fare'})\n",
        "cols = [c for c in ['Survived','Pclass','Sex','Age','Fare','sibsp','parch','SibSp','Parch','embarked','Embarked'] if c in titanic.columns]\n",
        "df_t = titanic[cols].copy()\n",
        "if 'SibSp' in df_t.columns and 'sibsp' not in df_t.columns: df_t = df_t.rename(columns={'SibSp':'sibsp'})\n",
        "if 'Parch' in df_t.columns and 'parch' not in df_t.columns: df_t = df_t.rename(columns={'Parch':'parch'})\n",
        "if 'Embarked' in df_t.columns and 'embarked' not in df_t.columns: df_t = df_t.rename(columns={'Embarked':'embarked'})\n",
        "df_t['Sex'] = df_t['Sex'].map({'male':0,'female':1,'Male':0,'Female':1})\n",
        "for c in ['Age','Fare','sibsp','parch']:\n",
        "    if c in df_t.columns: df_t[c] = df_t[c].fillna(df_t[c].median())\n",
        "if 'embarked' in df_t.columns:\n",
        "    df_t['embarked'] = df_t['embarked'].fillna(df_t['embarked'].mode().iloc[0])\n",
        "    df_t = pd.get_dummies(df_t, columns=['embarked'], drop_first=True)\n",
        "df_t = df_t.dropna(axis=0)\n",
        "\n",
        "from sklearn.model_selection import train_test_split\n",
        "X2 = df_t.drop(columns=['Survived']); y2 = df_t['Survived'].astype(int)\n",
        "X2_train, X2_test, y2_train, y2_test = train_test_split(X2, y2, test_size=0.2, random_state=6, stratify=y2)\n",
        "\n",
        "pipes = {\n",
        "    'LogReg': Pipeline([('scaler', StandardScaler(with_mean=False)), ('clf', LogisticRegression(max_iter=500))]),\n",
        "    'Tree':   Pipeline([('clf', DecisionTreeClassifier(random_state=6))]),\n",
        "    'RF':     Pipeline([('clf', RandomForestClassifier(random_state=6))])\n",
        "}\n",
        "grids = {\n",
        "    'LogReg': {'clf__C':[0.1,1.0,10.0], 'clf__solver':['lbfgs']},\n",
        "    'Tree':   {'clf__max_depth':[None,5,10], 'clf__min_samples_split':[2,5,10]},\n",
        "    'RF':     {'clf__n_estimators':[100,200], 'clf__max_depth':[None,10], 'clf__min_samples_split':[2,5]}\n",
        "}\n",
        "res2 = {}; best2 = {}\n",
        "for n,p in pipes.items():\n",
        "    grid = GridSearchCV(p, grids[n], cv=5, n_jobs=-1, verbose=1)\n",
        "    grid.fit(X2_train, y2_train)\n",
        "    best2[n] = grid.best_estimator_\n",
        "    pr = best2[n].predict(X2_test)\n",
        "    res2[n] = accuracy_score(y2_test, pr)\n",
        "print('Accuracy table (Titanic):\\n', pd.Series(res2).sort_values(ascending=False))\n",
        "\n",
        "best2_name = max(res2, key=res2.get)\n",
        "print('Best model for Titanic:', best2_name)\n",
        "pr10 = best2[best2_name].predict(X2_test[:10])\n",
        "print(pd.DataFrame({'y_true': y2_test.iloc[:10].values, 'y_pred': pr10}))\n"
      ]
    }
  ],
  "metadata": {
    "colab": {
      "provenance": [],
      "include_colab_link": true
    },
    "language_info": {
      "name": "python"
    },
    "kernelspec": {
      "name": "python3",
      "display_name": "Python 3"
    }
  },
  "nbformat": 4,
  "nbformat_minor": 5
}