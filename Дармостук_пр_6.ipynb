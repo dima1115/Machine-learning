{
 "cells": [
  {
   "cell_type": "markdown",
   "id": "8a97b8eb",
   "metadata": {},
   "source": [
    "# Лабораторна робота 1\n",
    "**Тема:** Вступ до машинного навчання. Елементи лінійної алгебри  \n",
    "**Варіант:** 6  \n",
    "**Формат:** Google Colab (.ipynb)  \n",
    "**Автор:** Дармостук Дмитро (приклад заповнення; за потреби замініть на власні дані)\n",
    "\n",
    "**Нагадування вимог (з файлу):** Кожне завдання супроводжується назвою як коментарем; у кінці — висновок.\n",
    "\n",
    "У цьому зошиті реалізовано **усі 15 завдань** для **варіанту 6** — тобто **пункт №6** в кожному з 15 блоків."
   ]
  },
  {
   "cell_type": "code",
   "execution_count": null,
   "id": "62fb4757",
   "metadata": {},
   "outputs": [],
   "source": [
    "\n",
    "# === Налаштування довкілля та допоміжні функції ===\n",
    "import numpy as np\n",
    "\n",
    "np.random.seed(6)  # фіксуємо зерно випадковості для відтворюваності\n",
    "\n",
    "def pretty(a):\n",
    "    \"\"\"Акуратний друк векторів/матриць.\"\"\"\n",
    "    a = np.array(a)\n",
    "    if a.ndim == 1:\n",
    "        print(a)\n",
    "    else:\n",
    "        for row in a:\n",
    "            print(row)\n",
    "\n"
   ]
  },
  {
   "cell_type": "code",
   "execution_count": null,
   "id": "39cb112b",
   "metadata": {},
   "outputs": [],
   "source": [
    "# Завдання 1, пункт 6 (варіант 6)\n",
    "# Створіть одновимірний масив (вектор) з перших 10-ти додатних парних чисел та виведіть його значення.\n",
    "vec_1_6 = np.arange(2, 2*10+1, 2)\n",
    "pretty(vec_1_6)"
   ]
  },
  {
   "cell_type": "code",
   "execution_count": null,
   "id": "c951474e",
   "metadata": {},
   "outputs": [],
   "source": [
    "# Завдання 2, пункт 6 (варіант 6)\n",
    "# Створіть матрицю 3x3, заповніть її сумою кожного числа та його попереднього, починаючи з 1, і виведіть.\n",
    "# Інтерпретація послідовності: a_n = n + (n-1) при n>=1 (тобто 1,3,5,7,...) заповнюємо построково.\n",
    "seq = np.array([2*n-1 for n in range(1, 9+1)])  # 9 елементів для 3x3\n",
    "mat_2_6 = seq.reshape(3,3)\n",
    "pretty(mat_2_6)"
   ]
  },
  {
   "cell_type": "code",
   "execution_count": null,
   "id": "0546fbee",
   "metadata": {},
   "outputs": [],
   "source": [
    "# Завдання 3, пункт 6 (варіант 6)\n",
    "# Масив 2x3 з випадкових цілих чисел у діапазоні від -1 до 1.\n",
    "mat_3_6 = np.random.randint(-1, 2, size=(2,3))\n",
    "pretty(mat_3_6)"
   ]
  },
  {
   "cell_type": "code",
   "execution_count": null,
   "id": "e95a5837",
   "metadata": {},
   "outputs": [],
   "source": [
    "# Завдання 4, пункт 6 (варіант 6)\n",
    "# Масив 5x5 з випадкових дійсних чисел у [0,1]; вектор-стовпчик сум елементів кожного рядка.\n",
    "mat_4_6 = np.random.rand(5,5)\n",
    "sums_rows = mat_4_6.sum(axis=1).reshape(-1,1)\n",
    "print(\"Матриця 5x5:\")\n",
    "pretty(mat_4_6)\n",
    "print(\"\\nВектор-стовпчик сум рядків:\")\n",
    "pretty(sums_rows)"
   ]
  },
  {
   "cell_type": "code",
   "execution_count": null,
   "id": "685e83b7",
   "metadata": {},
   "outputs": [],
   "source": [
    "# Завдання 5, пункт 6 (варіант 6)\n",
    "# Два вектори розміром 5 з випадкових дійсних у [0,1]; поелементно: +, -, *.\n",
    "a_5_6 = np.random.rand(5)\n",
    "b_5_6 = np.random.rand(5)\n",
    "print(\"a =\", a_5_6)\n",
    "print(\"b =\", b_5_6)\n",
    "print(\"a + b =\", a_5_6 + b_5_6)\n",
    "print(\"a - b =\", a_5_6 - b_5_6)\n",
    "print(\"a * b =\", a_5_6 * b_5_6)"
   ]
  },
  {
   "cell_type": "code",
   "execution_count": null,
   "id": "c3dba204",
   "metadata": {},
   "outputs": [],
   "source": [
    "# Завдання 6, пункт 6 (варіант 6)\n",
    "# Дві матриці 3x3 з дійсних у [5,30]; знайти їх добуток.\n",
    "A_6_6 = 5 + (30-5)*np.random.rand(3,3)\n",
    "B_6_6 = 5 + (30-5)*np.random.rand(3,3)\n",
    "C_6_6 = A_6_6 @ B_6_6\n",
    "print(\"A:\")\n",
    "pretty(A_6_6)\n",
    "print(\"\\nB:\")\n",
    "pretty(B_6_6)\n",
    "print(\"\\nA @ B:\")\n",
    "pretty(C_6_6)"
   ]
  },
  {
   "cell_type": "code",
   "execution_count": null,
   "id": "35e52109",
   "metadata": {},
   "outputs": [],
   "source": [
    "# Завдання 7, пункт 6 (варіант 6)\n",
    "# Дві матриці 2x3 та 3x4 з цілих у [1,5]; перемножити.\n",
    "A_7_6 = np.random.randint(1,6,size=(2,3))\n",
    "B_7_6 = np.random.randint(1,6,size=(3,4))\n",
    "C_7_6 = A_7_6 @ B_7_6\n",
    "print(\"A (2x3):\")\n",
    "pretty(A_7_6)\n",
    "print(\"\\nB (3x4):\")\n",
    "pretty(B_7_6)\n",
    "print(\"\\nA @ B (2x4):\")\n",
    "pretty(C_7_6)"
   ]
  },
  {
   "cell_type": "code",
   "execution_count": null,
   "id": "75fa7a7b",
   "metadata": {},
   "outputs": [],
   "source": [
    "# Завдання 8, пункт 6 (варіант 6)\n",
    "# Матриця 3x3 з цілих у [1,8]; знайти обернену матрицю (генеруємо, поки матриця невироджена).\n",
    "def random_invertible_int_matrix(low, high, size):\n",
    "    while True:\n",
    "        M = np.random.randint(low, high+1, size=size)\n",
    "        if np.linalg.det(M) != 0:\n",
    "            return M\n",
    "\n",
    "M_8_6 = random_invertible_int_matrix(1,8,(3,3))\n",
    "M_inv_8_6 = np.linalg.inv(M_8_6)\n",
    "print(\"M:\")\n",
    "pretty(M_8_6)\n",
    "print(\"\\nM^{-1}:\")\n",
    "pretty(M_inv_8_6)\n",
    "print(\"\\nПеревірка M @ M^{-1} (≈ I):\")\n",
    "pretty(M_8_6 @ M_inv_8_6)"
   ]
  },
  {
   "cell_type": "code",
   "execution_count": null,
   "id": "02ad2ab9",
   "metadata": {},
   "outputs": [],
   "source": [
    "# Завдання 9, пункт 6 (варіант 6)\n",
    "# Матриця 4x4 з дійсних у [0,1]; транспонувати.\n",
    "M_9_6 = np.random.rand(4,4)\n",
    "print(\"M:\")\n",
    "pretty(M_9_6)\n",
    "print(\"\\nM^T:\")\n",
    "pretty(M_9_6.T)"
   ]
  },
  {
   "cell_type": "code",
   "execution_count": null,
   "id": "6b04c8df",
   "metadata": {},
   "outputs": [],
   "source": [
    "# Завдання 10, пункт 6 (варіант 6)\n",
    "# Матриця 3x4 і вектор 4x1, обидва з дійсних у [0,1]; знайти добуток.\n",
    "A_10_6 = np.random.rand(3,4)\n",
    "v_10_6 = np.random.rand(4,1)\n",
    "prod_10_6 = A_10_6 @ v_10_6\n",
    "print(\"A (3x4):\")\n",
    "pretty(A_10_6)\n",
    "print(\"\\nv (4x1):\")\n",
    "pretty(v_10_6)\n",
    "print(\"\\nA @ v (3x1):\")\n",
    "pretty(prod_10_6)"
   ]
  },
  {
   "cell_type": "code",
   "execution_count": null,
   "id": "19709a49",
   "metadata": {},
   "outputs": [],
   "source": [
    "# Завдання 11, пункт 6 (варіант 6)\n",
    "# Матриця 2x3 з цілих у [1,10] і вектор 3x1 з дійсних у [0,1]; добуток.\n",
    "A_11_6 = np.random.randint(1,11,size=(2,3))\n",
    "v_11_6 = np.random.rand(3,1)\n",
    "prod_11_6 = A_11_6 @ v_11_6\n",
    "print(\"A (2x3):\")\n",
    "pretty(A_11_6)\n",
    "print(\"\\nv (3x1):\")\n",
    "pretty(v_11_6)\n",
    "print(\"\\nA @ v (2x1):\")\n",
    "pretty(prod_11_6)"
   ]
  },
  {
   "cell_type": "code",
   "execution_count": null,
   "id": "c707171a",
   "metadata": {},
   "outputs": [],
   "source": [
    "# Завдання 12, пункт 6 (варіант 6)\n",
    "# Дві матриці 7x7 з цілих у [1,10]; знайти їхню різницю A - B.\n",
    "A_12_6 = np.random.randint(1,11,size=(7,7))\n",
    "B_12_6 = np.random.randint(1,11,size=(7,7))\n",
    "D_12_6 = A_12_6 - B_12_6\n",
    "print(\"A:\")\n",
    "pretty(A_12_6)\n",
    "print(\"\\nB:\")\n",
    "pretty(B_12_6)\n",
    "print(\"\\nA - B:\")\n",
    "pretty(D_12_6)"
   ]
  },
  {
   "cell_type": "code",
   "execution_count": null,
   "id": "f376d32d",
   "metadata": {},
   "outputs": [],
   "source": [
    "# Завдання 13, пункт 6 (варіант 6)\n",
    "# Дві матриці 7x7 з цілих у [-10,10]; знайти суму їх елементів (окремо та разом).\n",
    "A_13_6 = np.random.randint(-10,11,size=(7,7))\n",
    "B_13_6 = np.random.randint(-10,11,size=(7,7))\n",
    "sumA = A_13_6.sum()\n",
    "sumB = B_13_6.sum()\n",
    "print(\"A:\")\n",
    "pretty(A_13_6)\n",
    "print(\"\\nB:\")\n",
    "pretty(B_13_6)\n",
    "print(f\"\\nСума елементів A: {sumA}\")\n",
    "print(f\"Сума елементів B: {sumB}\")\n",
    "print(f\"Загальна сума: {sumA + sumB}\")"
   ]
  },
  {
   "cell_type": "code",
   "execution_count": null,
   "id": "4fcad62c",
   "metadata": {},
   "outputs": [],
   "source": [
    "# Завдання 14, пункт 6 (варіант 6)\n",
    "# Матриця 3x3 з цілих у [1,10]; знайти середнє арифметичне елементів.\n",
    "M_14_6 = np.random.randint(1,11,size=(3,3))\n",
    "mean_14_6 = M_14_6.mean()\n",
    "pretty(M_14_6)\n",
    "print(\"\\nСереднє арифметичне:\", mean_14_6)"
   ]
  },
  {
   "cell_type": "code",
   "execution_count": null,
   "id": "806f32fd",
   "metadata": {},
   "outputs": [],
   "source": [
    "# Завдання 15, пункт 6 (варіант 6)\n",
    "# Матриця 8x8 з дійсних у [-1,1]; вектор-стовпчик найменших елементів у кожному рядку.\n",
    "M_15_6 = -1 + 2*np.random.rand(8,8)\n",
    "mins_by_row = M_15_6.min(axis=1).reshape(-1,1)\n",
    "print(\"Матриця 8x8:\")\n",
    "pretty(M_15_6)\n",
    "print(\"\\nВектор-стовпчик мінімумів по рядках:\")\n",
    "pretty(mins_by_row)"
   ]
  },
  {
   "cell_type": "markdown",
   "id": "d2bfbf45",
   "metadata": {},
   "source": [
    "## Висновок\n",
    "У зошиті реалізовано всі 15 завдань для варіанту 6 (пункт 6 у кожному розділі):\n",
    "- Показано роботу з векторами, матрицями, базові операції (сума, різниця, множення),\n",
    "- Роботу з транспонуванням, оберненою матрицею, агрегуванням по рядках/стовпцях,\n",
    "- А також обчислення середніх значень, мінімумів, тощо. Випадковість фіксовано через `np.random.seed(6)` для відтворюваності результатів.\n",
    "\n",
    "Для здачі роботи: додайте цей файл до репозиторію **GitHub «Машинне навчання»** і надішліть посилання разом із .ipynb."
   ]
  }
 ],
 "metadata": {},
 "nbformat": 4,
 "nbformat_minor": 5
}
